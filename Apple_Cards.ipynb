{
  "nbformat": 4,
  "nbformat_minor": 0,
  "metadata": {
    "colab": {
      "provenance": []
    },
    "kernelspec": {
      "name": "python3",
      "display_name": "Python 3"
    },
    "language_info": {
      "name": "python"
    }
  },
  "cells": [
    {
      "cell_type": "code",
      "execution_count": 2,
      "metadata": {
        "colab": {
          "base_uri": "https://localhost:8080/"
        },
        "id": "qJqOgh6hZS0b",
        "outputId": "e97f1a07-e7e8-499e-cfec-95ff55f7f14f"
      },
      "outputs": [
        {
          "output_type": "stream",
          "name": "stdout",
          "text": [
            "Enter the number of strings to generate: 16\n",
            "Generated strings:\n",
            "1. X3HUGRTZ9M6FVPOX\n",
            "2. X5ONA43DJXZT9SLD\n",
            "3. XBSO6N842937WLB4\n",
            "4. XTTKGH4GHBMD0UMH\n",
            "5. XDG1WQJ1M6CTKIIW\n",
            "6. XHVI0S4BHIH94QZW\n",
            "7. XZ06TC3WGX5MSDM2\n",
            "8. XFW29F91XU1L988T\n",
            "9. XH5SMY1YT7LFSZQL\n",
            "10. X954PJAMJTRCISCY\n",
            "11. XQUEA5GB0OL7XLXD\n",
            "12. X1GSP1L90KT1SQJZ\n",
            "13. X3KYR8MWCC0HXY6C\n",
            "14. X61JBHXDQ1KOU9GQ\n",
            "15. X2MJJ5S65V3HET8J\n",
            "16. XJQY795392OZYQ1F\n"
          ]
        }
      ],
      "source": [
        "import random\n",
        "import string\n",
        "\n",
        "def generate_string(length):\n",
        "    chars = string.ascii_uppercase + string.digits\n",
        "    return \"X\" + ''.join(random.choices(chars, k=length-1))\n",
        "\n",
        "def generate_strings(num_strings, length):\n",
        "    return [generate_string(length) for i in range(num_strings)]\n",
        "\n",
        "num_strings = int(input(\"Enter the number of strings to generate: \"))\n",
        "length = 16\n",
        "result = generate_strings(num_strings, length)\n",
        "print(\"Generated strings:\")\n",
        "for i, s in enumerate(result):\n",
        "    print(f\"{i+1}. {s}\")\n"
      ]
    }
  ]
}